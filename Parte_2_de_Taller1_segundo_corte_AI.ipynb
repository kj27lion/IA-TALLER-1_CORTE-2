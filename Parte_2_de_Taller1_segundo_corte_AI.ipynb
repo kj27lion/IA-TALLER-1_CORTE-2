{
  "nbformat": 4,
  "nbformat_minor": 0,
  "metadata": {
    "colab": {
      "provenance": []
    },
    "kernelspec": {
      "name": "python3",
      "display_name": "Python 3"
    },
    "language_info": {
      "name": "python"
    }
  },
  "cells": [
    {
      "cell_type": "markdown",
      "source": [
        "# TALLER SEGUNDO CORTE_IA"
      ],
      "metadata": {
        "id": "FuQmgoJdDkoC"
      }
    },
    {
      "cell_type": "markdown",
      "source": [
        "INTEGRANTES:\n",
        "             \n",
        "\n",
        "*   ANDRES STEVEN RIVAS SALAS\n",
        "              \n",
        "*   KEVIN JOSEPH VALBUENA PÉREZ\n",
        "\n",
        "*   RUBEN DARIO BARAHONA"
      ],
      "metadata": {
        "id": "fyBczdJpCL3T"
      }
    },
    {
      "cell_type": "markdown",
      "source": [
        "## Librerías a utilizar"
      ],
      "metadata": {
        "id": "m1yQMfIi7Kl-"
      }
    },
    {
      "cell_type": "code",
      "source": [
        "import numpy as np\n",
        "import pandas as pd\n",
        "import matplotlib.pyplot as plt\n",
        "from scipy import stats  # para calcular la moda"
      ],
      "metadata": {
        "id": "N_0othST7JDd"
      },
      "execution_count": null,
      "outputs": []
    },
    {
      "cell_type": "code",
      "source": [
        "from google.colab import drive\n",
        "drive.mount('/content/drive')"
      ],
      "metadata": {
        "colab": {
          "base_uri": "https://localhost:8080/"
        },
        "id": "swBt-_dOR90f",
        "outputId": "f3742e23-41fa-4d41-db48-139de1953065"
      },
      "execution_count": null,
      "outputs": [
        {
          "output_type": "stream",
          "name": "stdout",
          "text": [
            "Mounted at /content/drive\n"
          ]
        }
      ]
    },
    {
      "cell_type": "code",
      "source": [
        "df_datasetestu = pd.read_excel('/content/drive/MyDrive/kaggle/Dataset_Estudiantes.xlsx')"
      ],
      "metadata": {
        "id": "LMI39yKESWj6"
      },
      "execution_count": null,
      "outputs": []
    },
    {
      "cell_type": "markdown",
      "source": [
        "###  Puntos a realizar"
      ],
      "metadata": {
        "id": "EfgQYvQD7juw"
      }
    },
    {
      "cell_type": "markdown",
      "source": [
        "1. Crea un arreglo con los números del 1 al 1000 utilizando NumPy y calcula la suma total de los elementos."
      ],
      "metadata": {
        "id": "hVXbvdrd47_v"
      }
    },
    {
      "cell_type": "code",
      "source": [
        "# Crear un arreglo con los números del 1 al 1000\n",
        "arreglo = np.arange(1, 1001)\n",
        "\n",
        "# Calcular la suma total de los elementos\n",
        "suma_total = np.sum(arreglo)"
      ],
      "metadata": {
        "id": "OCaeAKKr5-y3"
      },
      "execution_count": null,
      "outputs": []
    },
    {
      "cell_type": "code",
      "source": [
        "# Mostrar resultados\n",
        "print(\"Arreglo del 1 al 1000:\")\n",
        "print(arreglo)\n",
        "print(\"\\nSuma total de los elementos:\", suma_total)"
      ],
      "metadata": {
        "colab": {
          "base_uri": "https://localhost:8080/"
        },
        "collapsed": true,
        "id": "m3-o6awC7vfQ",
        "outputId": "3dd3b75d-bb59-4166-ff27-3ec341caf04b"
      },
      "execution_count": null,
      "outputs": [
        {
          "output_type": "stream",
          "name": "stdout",
          "text": [
            "Arreglo del 1 al 1000:\n",
            "[   1    2    3    4    5    6    7    8    9   10   11   12   13   14\n",
            "   15   16   17   18   19   20   21   22   23   24   25   26   27   28\n",
            "   29   30   31   32   33   34   35   36   37   38   39   40   41   42\n",
            "   43   44   45   46   47   48   49   50   51   52   53   54   55   56\n",
            "   57   58   59   60   61   62   63   64   65   66   67   68   69   70\n",
            "   71   72   73   74   75   76   77   78   79   80   81   82   83   84\n",
            "   85   86   87   88   89   90   91   92   93   94   95   96   97   98\n",
            "   99  100  101  102  103  104  105  106  107  108  109  110  111  112\n",
            "  113  114  115  116  117  118  119  120  121  122  123  124  125  126\n",
            "  127  128  129  130  131  132  133  134  135  136  137  138  139  140\n",
            "  141  142  143  144  145  146  147  148  149  150  151  152  153  154\n",
            "  155  156  157  158  159  160  161  162  163  164  165  166  167  168\n",
            "  169  170  171  172  173  174  175  176  177  178  179  180  181  182\n",
            "  183  184  185  186  187  188  189  190  191  192  193  194  195  196\n",
            "  197  198  199  200  201  202  203  204  205  206  207  208  209  210\n",
            "  211  212  213  214  215  216  217  218  219  220  221  222  223  224\n",
            "  225  226  227  228  229  230  231  232  233  234  235  236  237  238\n",
            "  239  240  241  242  243  244  245  246  247  248  249  250  251  252\n",
            "  253  254  255  256  257  258  259  260  261  262  263  264  265  266\n",
            "  267  268  269  270  271  272  273  274  275  276  277  278  279  280\n",
            "  281  282  283  284  285  286  287  288  289  290  291  292  293  294\n",
            "  295  296  297  298  299  300  301  302  303  304  305  306  307  308\n",
            "  309  310  311  312  313  314  315  316  317  318  319  320  321  322\n",
            "  323  324  325  326  327  328  329  330  331  332  333  334  335  336\n",
            "  337  338  339  340  341  342  343  344  345  346  347  348  349  350\n",
            "  351  352  353  354  355  356  357  358  359  360  361  362  363  364\n",
            "  365  366  367  368  369  370  371  372  373  374  375  376  377  378\n",
            "  379  380  381  382  383  384  385  386  387  388  389  390  391  392\n",
            "  393  394  395  396  397  398  399  400  401  402  403  404  405  406\n",
            "  407  408  409  410  411  412  413  414  415  416  417  418  419  420\n",
            "  421  422  423  424  425  426  427  428  429  430  431  432  433  434\n",
            "  435  436  437  438  439  440  441  442  443  444  445  446  447  448\n",
            "  449  450  451  452  453  454  455  456  457  458  459  460  461  462\n",
            "  463  464  465  466  467  468  469  470  471  472  473  474  475  476\n",
            "  477  478  479  480  481  482  483  484  485  486  487  488  489  490\n",
            "  491  492  493  494  495  496  497  498  499  500  501  502  503  504\n",
            "  505  506  507  508  509  510  511  512  513  514  515  516  517  518\n",
            "  519  520  521  522  523  524  525  526  527  528  529  530  531  532\n",
            "  533  534  535  536  537  538  539  540  541  542  543  544  545  546\n",
            "  547  548  549  550  551  552  553  554  555  556  557  558  559  560\n",
            "  561  562  563  564  565  566  567  568  569  570  571  572  573  574\n",
            "  575  576  577  578  579  580  581  582  583  584  585  586  587  588\n",
            "  589  590  591  592  593  594  595  596  597  598  599  600  601  602\n",
            "  603  604  605  606  607  608  609  610  611  612  613  614  615  616\n",
            "  617  618  619  620  621  622  623  624  625  626  627  628  629  630\n",
            "  631  632  633  634  635  636  637  638  639  640  641  642  643  644\n",
            "  645  646  647  648  649  650  651  652  653  654  655  656  657  658\n",
            "  659  660  661  662  663  664  665  666  667  668  669  670  671  672\n",
            "  673  674  675  676  677  678  679  680  681  682  683  684  685  686\n",
            "  687  688  689  690  691  692  693  694  695  696  697  698  699  700\n",
            "  701  702  703  704  705  706  707  708  709  710  711  712  713  714\n",
            "  715  716  717  718  719  720  721  722  723  724  725  726  727  728\n",
            "  729  730  731  732  733  734  735  736  737  738  739  740  741  742\n",
            "  743  744  745  746  747  748  749  750  751  752  753  754  755  756\n",
            "  757  758  759  760  761  762  763  764  765  766  767  768  769  770\n",
            "  771  772  773  774  775  776  777  778  779  780  781  782  783  784\n",
            "  785  786  787  788  789  790  791  792  793  794  795  796  797  798\n",
            "  799  800  801  802  803  804  805  806  807  808  809  810  811  812\n",
            "  813  814  815  816  817  818  819  820  821  822  823  824  825  826\n",
            "  827  828  829  830  831  832  833  834  835  836  837  838  839  840\n",
            "  841  842  843  844  845  846  847  848  849  850  851  852  853  854\n",
            "  855  856  857  858  859  860  861  862  863  864  865  866  867  868\n",
            "  869  870  871  872  873  874  875  876  877  878  879  880  881  882\n",
            "  883  884  885  886  887  888  889  890  891  892  893  894  895  896\n",
            "  897  898  899  900  901  902  903  904  905  906  907  908  909  910\n",
            "  911  912  913  914  915  916  917  918  919  920  921  922  923  924\n",
            "  925  926  927  928  929  930  931  932  933  934  935  936  937  938\n",
            "  939  940  941  942  943  944  945  946  947  948  949  950  951  952\n",
            "  953  954  955  956  957  958  959  960  961  962  963  964  965  966\n",
            "  967  968  969  970  971  972  973  974  975  976  977  978  979  980\n",
            "  981  982  983  984  985  986  987  988  989  990  991  992  993  994\n",
            "  995  996  997  998  999 1000]\n",
            "\n",
            "Suma total de los elementos: 500500\n"
          ]
        }
      ]
    },
    {
      "cell_type": "markdown",
      "source": [
        "2. Dado el arreglo [2, 4, 4, 6, 8, 8, 8, 10], calcula la media, mediana y moda."
      ],
      "metadata": {
        "id": "GZ2pG18i73Gu"
      }
    },
    {
      "cell_type": "code",
      "source": [
        "# Conjunto de datos\n",
        "datos = np.array([2, 4, 4, 6, 8, 8, 8, 10])\n",
        "\n",
        "# Calcular media, mediana y moda\n",
        "media = np.mean(datos)\n",
        "mediana = np.median(datos)\n",
        "moda = stats.mode(datos, keepdims=True)"
      ],
      "metadata": {
        "id": "YMhSPVid8GyF"
      },
      "execution_count": null,
      "outputs": []
    },
    {
      "cell_type": "code",
      "source": [
        "# Mostrar resultados\n",
        "print(\"Conjunto de datos:\", datos)\n",
        "print(\"Media:\", media)\n",
        "print(\"Mediana:\", mediana)\n",
        "print(\"Moda:\", moda.mode[0])\n",
        "print(\"Frecuencia de la moda:\", moda.count[0])"
      ],
      "metadata": {
        "colab": {
          "base_uri": "https://localhost:8080/"
        },
        "id": "T90S_QBZ8jtJ",
        "outputId": "6f1bf1c6-9ec1-4c1b-81d6-3d15e0e3fd28"
      },
      "execution_count": null,
      "outputs": [
        {
          "output_type": "stream",
          "name": "stdout",
          "text": [
            "Conjunto de datos: [ 2  4  4  6  8  8  8 10]\n",
            "Media: 6.25\n",
            "Mediana: 7.0\n",
            "Moda: 8\n",
            "Frecuencia de la moda: 3\n"
          ]
        }
      ]
    },
    {
      "cell_type": "markdown",
      "source": [
        "3. Calcula la varianza y la desviación estándar del conjunto de datos anterior."
      ],
      "metadata": {
        "id": "v2fmAWp88qfu"
      }
    },
    {
      "cell_type": "code",
      "source": [
        "# Calcular la varianza\n",
        "varianza = np.var(datos)\n",
        "\n",
        "# Calcular la desviación estándar\n",
        "desviacion_estandar = np.std(datos)"
      ],
      "metadata": {
        "id": "bXW0ZISb8ub9"
      },
      "execution_count": null,
      "outputs": []
    },
    {
      "cell_type": "code",
      "source": [
        "print(\"Varianza:\", varianza)\n",
        "print(\"Desviación estándar:\", desviacion_estandar)"
      ],
      "metadata": {
        "colab": {
          "base_uri": "https://localhost:8080/"
        },
        "id": "2qbFhuF-83FL",
        "outputId": "c9553630-751b-46b6-964b-f924ecbaa6d5"
      },
      "execution_count": null,
      "outputs": [
        {
          "output_type": "stream",
          "name": "stdout",
          "text": [
            "Varianza: 6.4375\n",
            "Desviación estándar: 2.537222891273055\n"
          ]
        }
      ]
    },
    {
      "cell_type": "markdown",
      "source": [
        "4. Crea un DataFrame con Pandas que contenga las columnas Nombre, Edad\n",
        "y Nota, con al menos 5 registros.\n"
      ],
      "metadata": {
        "id": "psFJS_Ys88wG"
      }
    },
    {
      "cell_type": "code",
      "source": [
        "# Crear el DataFrame\n",
        "\n",
        "df = df_datasetestu"
      ],
      "metadata": {
        "id": "pdLnyFzH9A3l"
      },
      "execution_count": null,
      "outputs": []
    },
    {
      "cell_type": "code",
      "source": [
        "# Mostrar el DataFrame\n",
        "print(df)"
      ],
      "metadata": {
        "colab": {
          "base_uri": "https://localhost:8080/"
        },
        "id": "poRC-DTv9IOR",
        "outputId": "da3b4a55-90ff-41e7-e304-00f49cb6abfb"
      },
      "execution_count": null,
      "outputs": [
        {
          "output_type": "stream",
          "name": "stdout",
          "text": [
            "         Nombre          Apellido  Edad     Genero  \\\n",
            "0       Benigno         Páez Cruz    20  Masculino   \n",
            "1          Alex    Narváez Solana    18  Masculino   \n",
            "2     Manuelita  Carrasco Pizarro    18   Femenino   \n",
            "3        Quique     Sans Calderon    20  Masculino   \n",
            "4   Julio César   Mayoral Monreal    22  Masculino   \n",
            "..          ...               ...   ...        ...   \n",
            "95    Florencia       Perea Feliu    27   Femenino   \n",
            "96        Adora     Luján Cordero    26   Femenino   \n",
            "97  Jose Manuel  Ureña Echeverría    23  Masculino   \n",
            "98    Natividad      Mena Abellán    22   Femenino   \n",
            "99      Lourdes     Escolano Solé    24   Femenino   \n",
            "\n",
            "                              Email  Notas  semestre  \\\n",
            "0           benigno.páez1@gmail.com    3.5         4   \n",
            "1           alex.narváez2@gmail.com    3.7         8   \n",
            "2     manuelita.carrasco3@gmail.com    4.7         5   \n",
            "3            quique.sans4@yahoo.com    2.8        10   \n",
            "4   juliocésar.mayoral5@hotmail.com    3.4         7   \n",
            "..                              ...    ...       ...   \n",
            "95      florencia.perea96@yahoo.com    4.9         8   \n",
            "96          adora.luján97@gmail.com    4.9         9   \n",
            "97     josemanuel.ureña98@yahoo.com    3.8         1   \n",
            "98       natividad.mena99@gmail.com    3.3         5   \n",
            "99    lourdes.escolano100@yahoo.com    4.3        10   \n",
            "\n",
            "         Carrera Unicersitaria  \n",
            "0   Administración de Empresas  \n",
            "1                 Arquitectura  \n",
            "2                      Derecho  \n",
            "3   Administración de Empresas  \n",
            "4          Comunicación Social  \n",
            "..                         ...  \n",
            "95         Comunicación Social  \n",
            "96                Arquitectura  \n",
            "97                  Psicología  \n",
            "98          Contaduría Pública  \n",
            "99            Ingeniería Civil  \n",
            "\n",
            "[100 rows x 8 columns]\n"
          ]
        }
      ]
    },
    {
      "cell_type": "markdown",
      "source": [
        "5. Utiliza el DataFrame anterior para calcular la media, mínima, máxima y\n",
        "desviación estándar de las notas."
      ],
      "metadata": {
        "id": "UHZB9qtC9M_V"
      }
    },
    {
      "cell_type": "code",
      "source": [
        "# Calcular estadísticas de la columna 'Nota'\n",
        "media = df['Notas'].mean()\n",
        "minima = df['Notas'].min()\n",
        "maxima = df['Notas'].max()\n",
        "desviacion = df['Notas'].std()"
      ],
      "metadata": {
        "id": "NCGlXfcb9fmP"
      },
      "execution_count": null,
      "outputs": []
    },
    {
      "cell_type": "code",
      "source": [
        "print(\"Media de las notas:\", media)\n",
        "print(\"Nota mínima:\", minima)\n",
        "print(\"Nota máxima:\", maxima)\n",
        "print(\"Desviación estándar:\", desviacion)"
      ],
      "metadata": {
        "colab": {
          "base_uri": "https://localhost:8080/"
        },
        "id": "SoEwU-Bo9ihu",
        "outputId": "f4dba3fe-4b65-4a39-9c8f-15327c735964"
      },
      "execution_count": null,
      "outputs": [
        {
          "output_type": "stream",
          "name": "stdout",
          "text": [
            "Media de las notas: 3.901\n",
            "Nota mínima: 2.6\n",
            "Nota máxima: 5.0\n",
            "Desviación estándar: 0.7151315482574737\n"
          ]
        }
      ]
    },
    {
      "cell_type": "markdown",
      "source": [
        "6. Filtra los estudiantes del DataFrame que tienen nota mayor o igual a 4.0."
      ],
      "metadata": {
        "id": "pGq97eVq91pG"
      }
    },
    {
      "cell_type": "code",
      "source": [
        "# Filtrar estudiantes con nota >= 4.0\n",
        "filtro = df[df['Notas'] >= 4.0]"
      ],
      "metadata": {
        "id": "U1HJfTRY9_zo"
      },
      "execution_count": null,
      "outputs": []
    },
    {
      "cell_type": "code",
      "source": [
        "print(filtro)"
      ],
      "metadata": {
        "colab": {
          "base_uri": "https://localhost:8080/"
        },
        "id": "OVRtTreI-DK6",
        "outputId": "88870ab2-9989-418f-80ba-d2965d26fbf5"
      },
      "execution_count": null,
      "outputs": [
        {
          "output_type": "stream",
          "name": "stdout",
          "text": [
            "              Nombre            Apellido  Edad     Genero  \\\n",
            "2          Manuelita    Carrasco Pizarro    18   Femenino   \n",
            "5              Belen        Royo Sánchez    24   Femenino   \n",
            "6          Natividad     Blázquez Azcona    24   Femenino   \n",
            "10           Vicente     Aliaga Castillo    21  Masculino   \n",
            "11          Asunción      Batlle Company    17   Femenino   \n",
            "12          Etelvina          Ojeda Moya    27   Femenino   \n",
            "14          Estrella       Quintero Rosa    20   Femenino   \n",
            "18           Ignacio           Coll Sans    21  Masculino   \n",
            "20           Obdulia       Ropero Mármol    26   Femenino   \n",
            "23          Sigfrido         Angulo Pons    23  Masculino   \n",
            "24        Visitación       Feliu Ródenas    27   Femenino   \n",
            "25      Buenaventura    Ugarte Ferrández    21  Masculino   \n",
            "29         Silvestre   Pujadas Carbonell    22  Masculino   \n",
            "30            Camilo   Iniesta Escribano    24  Masculino   \n",
            "31           América   Benitez Garmendia    17   Femenino   \n",
            "32             Rubén         Riba Andres    22  Masculino   \n",
            "35            Ainara     Gámez Gutiérrez    26   Femenino   \n",
            "36           Valeria       Zamora Huerta    21   Femenino   \n",
            "41          Patricia  Benitez Montesinos    23   Femenino   \n",
            "44           Samanta    Esteban Alberola    20   Femenino   \n",
            "46         José Luis         Diez Arroyo    19  Masculino   \n",
            "49          Angelino     Benavent Aguiló    20  Masculino   \n",
            "50             Celso      Coello Rebollo    21  Masculino   \n",
            "51              Lola        Galvez Viñas    24   Femenino   \n",
            "52           Modesta      Gilabert Uribe    20   Femenino   \n",
            "54         Encarnita      Trillo Llorens    19   Femenino   \n",
            "56            Julián   Sarmiento Alcaraz    24  Masculino   \n",
            "57               Eli    Cordero Expósito    21   Femenino   \n",
            "58             Celia      Zurita Canales    21   Femenino   \n",
            "60          Custodio        Alsina Soria    19  Masculino   \n",
            "61            Alicia      Terrón Barrena    26   Femenino   \n",
            "62            Eladio   Castrillo Quevedo    23  Masculino   \n",
            "63            Wálter     Chaves Figueras    26  Masculino   \n",
            "64         Maristela      Gallardo Ocaña    19   Femenino   \n",
            "65           Eusebia     Barragán Garzón    24   Femenino   \n",
            "67           Palmira        Vaquero Saez    26   Femenino   \n",
            "68            Álvaro       Segura Sierra    25  Masculino   \n",
            "69            Jordán   Salmerón Oliveras    24  Masculino   \n",
            "71             María      Fortuny Amorós    24  Masculino   \n",
            "73        Segismundo         Campos Fiol    17  Masculino   \n",
            "77           Roberto     Solsona Briones    18  Masculino   \n",
            "79  María Del Carmen         Baños Sainz    21   Femenino   \n",
            "82           Soledad      Gisbert Huguet    17   Femenino   \n",
            "83              Raúl         Iborra Pina    22  Masculino   \n",
            "85           Leandra       Puig Escalona    19   Femenino   \n",
            "86            Amalia           Luna Sáez    25   Femenino   \n",
            "89            Dorita       Monreal Cueto    22   Femenino   \n",
            "90             Román      Castro Uriarte    26  Masculino   \n",
            "92           Rodolfo     Calderón Casals    26  Masculino   \n",
            "94         Hortensia        Cabeza Ochoa    20   Femenino   \n",
            "95         Florencia         Perea Feliu    27   Femenino   \n",
            "96             Adora       Luján Cordero    26   Femenino   \n",
            "99           Lourdes       Escolano Solé    24   Femenino   \n",
            "\n",
            "                                 Email  Notas  semestre  \\\n",
            "2        manuelita.carrasco3@gmail.com    4.7         5   \n",
            "5                belen.royo6@gmail.com    4.2         7   \n",
            "6        natividad.blázquez7@yahoo.com    4.1        10   \n",
            "10          vicente.aliaga11@gmail.com    4.2         1   \n",
            "11         asunción.batlle12@gmail.com    4.1         3   \n",
            "12        etelvina.ojeda13@hotmail.com    4.2         4   \n",
            "14       estrella.quintero15@gmail.com    4.0        10   \n",
            "18          ignacio.coll19@hotmail.com    5.0         6   \n",
            "20          obdulia.ropero21@gmail.com    4.3         3   \n",
            "23       sigfrido.angulo24@hotmail.com    4.7        10   \n",
            "24        visitación.feliu25@yahoo.com    4.4         5   \n",
            "25     buenaventura.ugarte26@gmail.com    4.1         6   \n",
            "29     silvestre.pujadas30@hotmail.com    4.7         9   \n",
            "30          camilo.iniesta31@gmail.com    4.7        10   \n",
            "31         américa.benitez32@gmail.com    4.4         9   \n",
            "32              rubén.riba33@yahoo.com    4.7         9   \n",
            "35            ainara.gámez36@gmail.com    4.2         2   \n",
            "36          valeria.zamora37@yahoo.com    4.4         7   \n",
            "41        patricia.benitez42@yahoo.com    4.9         3   \n",
            "44         samanta.esteban45@yahoo.com    4.5         3   \n",
            "46           joséluis.diez47@yahoo.com    4.4         7   \n",
            "49       angelino.benavent50@yahoo.com    5.0         9   \n",
            "50            celso.coello51@gmail.com    4.7         9   \n",
            "51             lola.galvez52@yahoo.com    4.8         5   \n",
            "52      modesta.gilabert53@hotmail.com    5.0         8   \n",
            "54        encarnita.trillo55@yahoo.com    4.3         2   \n",
            "56      julián.sarmiento57@hotmail.com    5.0         7   \n",
            "57           eli.cordero58@hotmail.com    4.9         3   \n",
            "58            celia.zurita59@gmail.com    4.1         9   \n",
            "60       custodio.alsina61@hotmail.com    4.4         4   \n",
            "61           alicia.terrón62@gmail.com    4.9         4   \n",
            "62      eladio.castrillo63@hotmail.com    4.2         5   \n",
            "63           wálter.chaves64@yahoo.com    4.5         5   \n",
            "64      maristela.gallardo65@gmail.com    4.4         1   \n",
            "65        eusebia.barragán66@gmail.com    4.3         3   \n",
            "67         palmira.vaquero68@gmail.com    4.9         6   \n",
            "68         álvaro.segura69@hotmail.com    4.3         9   \n",
            "69         jordán.salmerón70@gmail.com    4.5        10   \n",
            "71           maría.fortuny72@yahoo.com    4.8         4   \n",
            "73       segismundo.campos74@gmail.com    4.3         4   \n",
            "77         roberto.solsona78@yahoo.com    4.4         4   \n",
            "79  maríadelcarmen.baños80@hotmail.com    4.2         1   \n",
            "82         soledad.gisbert83@yahoo.com    4.3         4   \n",
            "83             raúl.iborra84@yahoo.com    4.0         1   \n",
            "85            leandra.puig86@gmail.com    4.5         2   \n",
            "86             amalia.luna87@gmail.com    4.6         6   \n",
            "89          dorita.monreal90@yahoo.com    4.0         4   \n",
            "90          román.castro91@hotmail.com    4.4         2   \n",
            "92        rodolfo.calderón93@gmail.com    4.5         4   \n",
            "94        hortensia.cabeza95@gmail.com    4.6         2   \n",
            "95         florencia.perea96@yahoo.com    4.9         8   \n",
            "96             adora.luján97@gmail.com    4.9         9   \n",
            "99       lourdes.escolano100@yahoo.com    4.3        10   \n",
            "\n",
            "         Carrera Unicersitaria  \n",
            "2                      Derecho  \n",
            "5                 Arquitectura  \n",
            "6                     Medicina  \n",
            "10          Contaduría Pública  \n",
            "11          Contaduría Pública  \n",
            "12         Comunicación Social  \n",
            "14                    Economía  \n",
            "18            Ingeniería Civil  \n",
            "20         Comunicación Social  \n",
            "23                  Psicología  \n",
            "24            Ingeniería Civil  \n",
            "25         Comunicación Social  \n",
            "29                    Medicina  \n",
            "30  Administración de Empresas  \n",
            "31                    Medicina  \n",
            "32  Administración de Empresas  \n",
            "35                Arquitectura  \n",
            "36      Ingeniería de Sistemas  \n",
            "41                  Psicología  \n",
            "44                Arquitectura  \n",
            "46          Contaduría Pública  \n",
            "49            Ingeniería Civil  \n",
            "50                    Economía  \n",
            "51                    Economía  \n",
            "52                    Medicina  \n",
            "54                    Economía  \n",
            "56                  Psicología  \n",
            "57         Comunicación Social  \n",
            "58            Ingeniería Civil  \n",
            "60                    Economía  \n",
            "61  Administración de Empresas  \n",
            "62                     Derecho  \n",
            "63                    Economía  \n",
            "64                     Derecho  \n",
            "65                     Derecho  \n",
            "67  Administración de Empresas  \n",
            "68                     Derecho  \n",
            "69  Administración de Empresas  \n",
            "71          Contaduría Pública  \n",
            "73  Administración de Empresas  \n",
            "77                    Economía  \n",
            "79                    Medicina  \n",
            "82                  Psicología  \n",
            "83                     Derecho  \n",
            "85                Arquitectura  \n",
            "86            Ingeniería Civil  \n",
            "89                     Derecho  \n",
            "90                     Derecho  \n",
            "92  Administración de Empresas  \n",
            "94         Comunicación Social  \n",
            "95         Comunicación Social  \n",
            "96                Arquitectura  \n",
            "99            Ingeniería Civil  \n"
          ]
        }
      ]
    },
    {
      "cell_type": "markdown",
      "source": [
        "7. Grafica las notas de los estudiantes utilizando un gráfico de barras con\n",
        "Matplotlib."
      ],
      "metadata": {
        "id": "CecFmzKy-RGY"
      }
    },
    {
      "cell_type": "code",
      "source": [
        "# Crear el gráfico de barras\n",
        "plt.bar(df['Nombre'], df['Notas'])\n",
        "\n",
        "# Títulos y etiquetas\n",
        "plt.title('Notas de los Estudiantes')\n",
        "plt.xlabel('Nombre')\n",
        "plt.ylabel('Nota')\n",
        "\n",
        "# Mostrar el gráfico\n",
        "plt.show()"
      ],
      "metadata": {
        "collapsed": true,
        "id": "zN8Z7bmY-nw0",
        "colab": {
          "base_uri": "https://localhost:8080/",
          "height": 474
        },
        "outputId": "700e3adf-4ef7-412d-8f04-4c7b15919e3a"
      },
      "execution_count": null,
      "outputs": [
        {
          "output_type": "display_data",
          "data": {
            "text/plain": [
              "<Figure size 640x480 with 1 Axes>"
            ],
            "image/png": "[encoded data removed]"
          },
          "metadata": {}
        }
      ]
    },
    {
      "cell_type": "markdown",
      "source": [
        "8. Crea un gráfico de dispersión (scatter plot) entre las columnas Edad y\n",
        "Nota."
      ],
      "metadata": {
        "id": "YfuLrXPW_lX3"
      }
    },
    {
      "cell_type": "code",
      "source": [
        "# Crear el gráfico de dispersión\n",
        "plt.scatter(df['Edad'], df['Notas'], color='blue', marker='o')\n",
        "\n",
        "# Títulos y etiquetas\n",
        "plt.title('Relación entre Edad y Nota')\n",
        "plt.xlabel('Edad')\n",
        "plt.ylabel('Notas')\n",
        "\n",
        "# Mostrar el gráfico\n",
        "plt.show()"
      ],
      "metadata": {
        "colab": {
          "base_uri": "https://localhost:8080/",
          "height": 472
        },
        "collapsed": true,
        "id": "44oaNcskALMH",
        "outputId": "f86101df-1a22-40c5-936e-bf08aa2d3fca"
      },
      "execution_count": null,
      "outputs": [
        {
          "output_type": "display_data",
          "data": {
            "text/plain": [
              "<Figure size 640x480 with 1 Axes>"
            ],
            "image/png": "[encoded data removed]"
          },
          "metadata": {}
        }
      ]
    },
    {
      "cell_type": "markdown",
      "source": [
        "9. Agrega una columna llamada Género al DataFrame y calcula el promedio\n",
        "de notas por género."
      ],
      "metadata": {
        "id": "mvuk2FjdAxc3"
      }
    },
    {
      "cell_type": "code",
      "source": [
        "# Calcular el promedio de notas por género\n",
        "promedio_por_genero = df.groupby('Genero')['Notas'].mean()"
      ],
      "metadata": {
        "id": "1qvQmNe3AR5p"
      },
      "execution_count": null,
      "outputs": []
    },
    {
      "cell_type": "code",
      "source": [
        "print(\"DataFrame actualizado:\")\n",
        "print(df)\n",
        "print(\"\\nPromedio de notas por género:\")\n",
        "print(promedio_por_genero)"
      ],
      "metadata": {
        "colab": {
          "base_uri": "https://localhost:8080/"
        },
        "id": "r-RERNzbBKs6",
        "outputId": "e97ef984-360a-4978-a538-80e5d2934bdf"
      },
      "execution_count": null,
      "outputs": [
        {
          "output_type": "stream",
          "name": "stdout",
          "text": [
            "DataFrame actualizado:\n",
            "         Nombre          Apellido  Edad     Genero  \\\n",
            "0       Benigno         Páez Cruz    20  Masculino   \n",
            "1          Alex    Narváez Solana    18  Masculino   \n",
            "2     Manuelita  Carrasco Pizarro    18   Femenino   \n",
            "3        Quique     Sans Calderon    20  Masculino   \n",
            "4   Julio César   Mayoral Monreal    22  Masculino   \n",
            "..          ...               ...   ...        ...   \n",
            "95    Florencia       Perea Feliu    27   Femenino   \n",
            "96        Adora     Luján Cordero    26   Femenino   \n",
            "97  Jose Manuel  Ureña Echeverría    23  Masculino   \n",
            "98    Natividad      Mena Abellán    22   Femenino   \n",
            "99      Lourdes     Escolano Solé    24   Femenino   \n",
            "\n",
            "                              Email  Notas  semestre  \\\n",
            "0           benigno.páez1@gmail.com    3.5         4   \n",
            "1           alex.narváez2@gmail.com    3.7         8   \n",
            "2     manuelita.carrasco3@gmail.com    4.7         5   \n",
            "3            quique.sans4@yahoo.com    2.8        10   \n",
            "4   juliocésar.mayoral5@hotmail.com    3.4         7   \n",
            "..                              ...    ...       ...   \n",
            "95      florencia.perea96@yahoo.com    4.9         8   \n",
            "96          adora.luján97@gmail.com    4.9         9   \n",
            "97     josemanuel.ureña98@yahoo.com    3.8         1   \n",
            "98       natividad.mena99@gmail.com    3.3         5   \n",
            "99    lourdes.escolano100@yahoo.com    4.3        10   \n",
            "\n",
            "         Carrera Unicersitaria  \n",
            "0   Administración de Empresas  \n",
            "1                 Arquitectura  \n",
            "2                      Derecho  \n",
            "3   Administración de Empresas  \n",
            "4          Comunicación Social  \n",
            "..                         ...  \n",
            "95         Comunicación Social  \n",
            "96                Arquitectura  \n",
            "97                  Psicología  \n",
            "98          Contaduría Pública  \n",
            "99            Ingeniería Civil  \n",
            "\n",
            "[100 rows x 8 columns]\n",
            "\n",
            "Promedio de notas por género:\n",
            "Genero\n",
            "Femenino     3.978431\n",
            "Masculino    3.820408\n",
            "Name: Notas, dtype: float64\n"
          ]
        }
      ]
    },
    {
      "cell_type": "markdown",
      "source": [
        "10. Calcula el rango, varianza y desviación estándar de las notas, y representa su\n",
        "distribución en un histograma."
      ],
      "metadata": {
        "id": "f1AtXF7ABVjf"
      }
    },
    {
      "cell_type": "code",
      "source": [
        "# Calcular medidas estadísticas\n",
        "rango = df['Notas'].max() - df['Notas'].min()\n",
        "varianza = np.var(df['Notas'], ddof=0)  # varianza poblacional\n",
        "desviacion = np.std(df['Notas'], ddof=0)  # desviación estándar poblacional"
      ],
      "metadata": {
        "id": "LyCd9tzNBZWj"
      },
      "execution_count": null,
      "outputs": []
    },
    {
      "cell_type": "code",
      "source": [
        "# Mostrar resultados\n",
        "print(f\"Rango: {rango:.2f}\")\n",
        "print(f\"Varianza: {varianza:.4f}\")\n",
        "print(f\"Desviación estándar: {desviacion:.4f}\")"
      ],
      "metadata": {
        "colab": {
          "base_uri": "https://localhost:8080/"
        },
        "id": "SQ8sqYAbBkbW",
        "outputId": "6f8fce41-c75a-47a5-cc8e-62bacc01cb6a"
      },
      "execution_count": null,
      "outputs": [
        {
          "output_type": "stream",
          "name": "stdout",
          "text": [
            "Rango: 2.40\n",
            "Varianza: 0.5063\n",
            "Desviación estándar: 0.7115\n"
          ]
        }
      ]
    },
    {
      "cell_type": "code",
      "source": [
        "# Crear el histograma\n",
        "plt.hist(df['Notas'], bins=5, color='skyblue', edgecolor='black')\n",
        "plt.title('Distribución de las Notas')\n",
        "plt.xlabel('Nota')\n",
        "plt.ylabel('Frecuencia')\n",
        "\n",
        "# Mostrar el gráfico\n",
        "plt.show()"
      ],
      "metadata": {
        "colab": {
          "base_uri": "https://localhost:8080/",
          "height": 472
        },
        "id": "EIHlUaY_Bnha",
        "outputId": "fef1b89f-9fa8-4187-a4b7-dedbf4c4718d"
      },
      "execution_count": null,
      "outputs": [
        {
          "output_type": "display_data",
          "data": {
            "text/plain": [
              "<Figure size 640x480 with 1 Axes>"
            ],
            "image/png": "[encoded data removed]"
          },
          "metadata": {}
        }
      ]
    }
  ]
}