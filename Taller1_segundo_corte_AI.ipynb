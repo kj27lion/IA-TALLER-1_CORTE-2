{
  "nbformat": 4,
  "nbformat_minor": 0,
  "metadata": {
    "colab": {
      "provenance": []
    },
    "kernelspec": {
      "name": "python3",
      "display_name": "Python 3"
    },
    "language_info": {
      "name": "python"
    }
  },
  "cells": [
    {
      "cell_type": "markdown",
      "source": [
        "# TALLER SEGUNDO CORTE_IA"
      ],
      "metadata": {
        "id": "FuQmgoJdDkoC"
      }
    },
    {
      "cell_type": "markdown",
      "source": [
        "INTEGRANTES:\n",
        "             \n",
        "\n",
        "*   ANDRES STEVEN RIVAS SALAS\n",
        "              \n",
        "*   KEVIN JOSEPH VALBUENA\n",
        "\n",
        "*   RUBEN DARIO BARAHONA\n",
        "\n",
        "\n",
        "\n",
        "\n"
      ],
      "metadata": {
        "id": "fyBczdJpCL3T"
      }
    },
    {
      "cell_type": "markdown",
      "source": [
        "## Librerías a utilizar"
      ],
      "metadata": {
        "id": "m1yQMfIi7Kl-"
      }
    },
    {
      "cell_type": "code",
      "source": [
        "import numpy as np\n",
        "import pandas as pd\n",
        "import matplotlib.pyplot as plt\n",
        "from scipy import stats  # para calcular la moda"
      ],
      "metadata": {
        "id": "N_0othST7JDd"
      },
      "execution_count": null,
      "outputs": []
    },
    {
      "cell_type": "markdown",
      "source": [
        "###  Puntos a realizar"
      ],
      "metadata": {
        "id": "EfgQYvQD7juw"
      }
    },
    {
      "cell_type": "markdown",
      "source": [
        "1. Crea un arreglo con los números del 1 al 1000 utilizando NumPy y calcula la suma total de los elementos."
      ],
      "metadata": {
        "id": "hVXbvdrd47_v"
      }
    },
    {
      "cell_type": "code",
      "source": [
        "\n",
        "# Crear un arreglo con los números del 1 al 1000\n",
        "arreglo = np.arange(1, 1001)\n",
        "\n",
        "# Calcular la suma total de los elementos\n",
        "suma_total = np.sum(arreglo)"
      ],
      "metadata": {
        "id": "OCaeAKKr5-y3"
      },
      "execution_count": null,
      "outputs": []
    },
    {
      "cell_type": "code",
      "source": [
        "# Mostrar resultados\n",
        "print(\"Arreglo del 1 al 1000:\")\n",
        "print(arreglo)\n",
        "print(\"\\nSuma total de los elementos:\", suma_total)"
      ],
      "metadata": {
        "colab": {
          "base_uri": "https://localhost:8080/"
        },
        "collapsed": true,
        "id": "m3-o6awC7vfQ",
        "outputId": "af5f9104-ee34-45d4-c473-143b89dd3081"
      },
      "execution_count": null,
      "outputs": [
        {
          "output_type": "stream",
          "name": "stdout",
          "text": [
            "Arreglo del 1 al 1000:\n",
            "[   1    2    3    4    5    6    7    8    9   10   11   12   13   14\n",
            "   15   16   17   18   19   20   21   22   23   24   25   26   27   28\n",
            "   29   30   31   32   33   34   35   36   37   38   39   40   41   42\n",
            "   43   44   45   46   47   48   49   50   51   52   53   54   55   56\n",
            "   57   58   59   60   61   62   63   64   65   66   67   68   69   70\n",
            "   71   72   73   74   75   76   77   78   79   80   81   82   83   84\n",
            "   85   86   87   88   89   90   91   92   93   94   95   96   97   98\n",
            "   99  100  101  102  103  104  105  106  107  108  109  110  111  112\n",
            "  113  114  115  116  117  118  119  120  121  122  123  124  125  126\n",
            "  127  128  129  130  131  132  133  134  135  136  137  138  139  140\n",
            "  141  142  143  144  145  146  147  148  149  150  151  152  153  154\n",
            "  155  156  157  158  159  160  161  162  163  164  165  166  167  168\n",
            "  169  170  171  172  173  174  175  176  177  178  179  180  181  182\n",
            "  183  184  185  186  187  188  189  190  191  192  193  194  195  196\n",
            "  197  198  199  200  201  202  203  204  205  206  207  208  209  210\n",
            "  211  212  213  214  215  216  217  218  219  220  221  222  223  224\n",
            "  225  226  227  228  229  230  231  232  233  234  235  236  237  238\n",
            "  239  240  241  242  243  244  245  246  247  248  249  250  251  252\n",
            "  253  254  255  256  257  258  259  260  261  262  263  264  265  266\n",
            "  267  268  269  270  271  272  273  274  275  276  277  278  279  280\n",
            "  281  282  283  284  285  286  287  288  289  290  291  292  293  294\n",
            "  295  296  297  298  299  300  301  302  303  304  305  306  307  308\n",
            "  309  310  311  312  313  314  315  316  317  318  319  320  321  322\n",
            "  323  324  325  326  327  328  329  330  331  332  333  334  335  336\n",
            "  337  338  339  340  341  342  343  344  345  346  347  348  349  350\n",
            "  351  352  353  354  355  356  357  358  359  360  361  362  363  364\n",
            "  365  366  367  368  369  370  371  372  373  374  375  376  377  378\n",
            "  379  380  381  382  383  384  385  386  387  388  389  390  391  392\n",
            "  393  394  395  396  397  398  399  400  401  402  403  404  405  406\n",
            "  407  408  409  410  411  412  413  414  415  416  417  418  419  420\n",
            "  421  422  423  424  425  426  427  428  429  430  431  432  433  434\n",
            "  435  436  437  438  439  440  441  442  443  444  445  446  447  448\n",
            "  449  450  451  452  453  454  455  456  457  458  459  460  461  462\n",
            "  463  464  465  466  467  468  469  470  471  472  473  474  475  476\n",
            "  477  478  479  480  481  482  483  484  485  486  487  488  489  490\n",
            "  491  492  493  494  495  496  497  498  499  500  501  502  503  504\n",
            "  505  506  507  508  509  510  511  512  513  514  515  516  517  518\n",
            "  519  520  521  522  523  524  525  526  527  528  529  530  531  532\n",
            "  533  534  535  536  537  538  539  540  541  542  543  544  545  546\n",
            "  547  548  549  550  551  552  553  554  555  556  557  558  559  560\n",
            "  561  562  563  564  565  566  567  568  569  570  571  572  573  574\n",
            "  575  576  577  578  579  580  581  582  583  584  585  586  587  588\n",
            "  589  590  591  592  593  594  595  596  597  598  599  600  601  602\n",
            "  603  604  605  606  607  608  609  610  611  612  613  614  615  616\n",
            "  617  618  619  620  621  622  623  624  625  626  627  628  629  630\n",
            "  631  632  633  634  635  636  637  638  639  640  641  642  643  644\n",
            "  645  646  647  648  649  650  651  652  653  654  655  656  657  658\n",
            "  659  660  661  662  663  664  665  666  667  668  669  670  671  672\n",
            "  673  674  675  676  677  678  679  680  681  682  683  684  685  686\n",
            "  687  688  689  690  691  692  693  694  695  696  697  698  699  700\n",
            "  701  702  703  704  705  706  707  708  709  710  711  712  713  714\n",
            "  715  716  717  718  719  720  721  722  723  724  725  726  727  728\n",
            "  729  730  731  732  733  734  735  736  737  738  739  740  741  742\n",
            "  743  744  745  746  747  748  749  750  751  752  753  754  755  756\n",
            "  757  758  759  760  761  762  763  764  765  766  767  768  769  770\n",
            "  771  772  773  774  775  776  777  778  779  780  781  782  783  784\n",
            "  785  786  787  788  789  790  791  792  793  794  795  796  797  798\n",
            "  799  800  801  802  803  804  805  806  807  808  809  810  811  812\n",
            "  813  814  815  816  817  818  819  820  821  822  823  824  825  826\n",
            "  827  828  829  830  831  832  833  834  835  836  837  838  839  840\n",
            "  841  842  843  844  845  846  847  848  849  850  851  852  853  854\n",
            "  855  856  857  858  859  860  861  862  863  864  865  866  867  868\n",
            "  869  870  871  872  873  874  875  876  877  878  879  880  881  882\n",
            "  883  884  885  886  887  888  889  890  891  892  893  894  895  896\n",
            "  897  898  899  900  901  902  903  904  905  906  907  908  909  910\n",
            "  911  912  913  914  915  916  917  918  919  920  921  922  923  924\n",
            "  925  926  927  928  929  930  931  932  933  934  935  936  937  938\n",
            "  939  940  941  942  943  944  945  946  947  948  949  950  951  952\n",
            "  953  954  955  956  957  958  959  960  961  962  963  964  965  966\n",
            "  967  968  969  970  971  972  973  974  975  976  977  978  979  980\n",
            "  981  982  983  984  985  986  987  988  989  990  991  992  993  994\n",
            "  995  996  997  998  999 1000]\n",
            "\n",
            "Suma total de los elementos: 500500\n"
          ]
        }
      ]
    },
    {
      "cell_type": "markdown",
      "source": [
        "2. Dado el arreglo [2, 4, 4, 6, 8, 8, 8, 10], calcula la media, mediana y moda."
      ],
      "metadata": {
        "id": "GZ2pG18i73Gu"
      }
    },
    {
      "cell_type": "code",
      "source": [
        "\n",
        "# Conjunto de datos\n",
        "datos = np.array([2, 4, 4, 6, 8, 8, 8, 10])\n",
        "\n",
        "# Calcular media, mediana y moda\n",
        "media = np.mean(datos)\n",
        "mediana = np.median(datos)\n",
        "moda = stats.mode(datos, keepdims=True)"
      ],
      "metadata": {
        "id": "YMhSPVid8GyF"
      },
      "execution_count": null,
      "outputs": []
    },
    {
      "cell_type": "code",
      "source": [
        "# Mostrar resultados\n",
        "print(\"Conjunto de datos:\", datos)\n",
        "print(\"Media:\", media)\n",
        "print(\"Mediana:\", mediana)\n",
        "print(\"Moda:\", moda.mode[0])\n",
        "print(\"Frecuencia de la moda:\", moda.count[0])"
      ],
      "metadata": {
        "colab": {
          "base_uri": "https://localhost:8080/"
        },
        "id": "T90S_QBZ8jtJ",
        "outputId": "84509668-8290-478a-9b7f-b940be236781"
      },
      "execution_count": null,
      "outputs": [
        {
          "output_type": "stream",
          "name": "stdout",
          "text": [
            "Conjunto de datos: [ 2  4  4  6  8  8  8 10]\n",
            "Media: 6.25\n",
            "Mediana: 7.0\n",
            "Moda: 8\n",
            "Frecuencia de la moda: 3\n"
          ]
        }
      ]
    },
    {
      "cell_type": "markdown",
      "source": [
        "3. Calcula la varianza y la desviación estándar del conjunto de datos anterior."
      ],
      "metadata": {
        "id": "v2fmAWp88qfu"
      }
    },
    {
      "cell_type": "code",
      "source": [
        "\n",
        "# Calcular la varianza\n",
        "varianza = np.var(datos)\n",
        "\n",
        "# Calcular la desviación estándar\n",
        "desviacion_estandar = np.std(datos)"
      ],
      "metadata": {
        "id": "bXW0ZISb8ub9"
      },
      "execution_count": null,
      "outputs": []
    },
    {
      "cell_type": "code",
      "source": [
        "print(\"Varianza:\", varianza)\n",
        "print(\"Desviación estándar:\", desviacion_estandar)"
      ],
      "metadata": {
        "colab": {
          "base_uri": "https://localhost:8080/"
        },
        "id": "2qbFhuF-83FL",
        "outputId": "6da43b97-6e7b-4606-c2cb-d7b9ccfaa63a"
      },
      "execution_count": null,
      "outputs": [
        {
          "output_type": "stream",
          "name": "stdout",
          "text": [
            "Varianza: 6.4375\n",
            "Desviación estándar: 2.537222891273055\n"
          ]
        }
      ]
    },
    {
      "cell_type": "markdown",
      "source": [
        "4. Crea un DataFrame con Pandas que contenga las columnas Nombre, Edad\n",
        "y Nota, con al menos 5 registros.\n"
      ],
      "metadata": {
        "id": "psFJS_Ys88wG"
      }
    },
    {
      "cell_type": "code",
      "source": [
        "# Crear el DataFrame\n",
        "datos = {\n",
        "    'Nombre': ['Ana', 'Bruno', 'Carla', 'Diego', 'Elena'],\n",
        "    'Edad': [20, 22, 21, 23, 20],\n",
        "    'Nota': [4.5, 3.8, 4.2, 4.9, 3.6]\n",
        "}\n",
        "\n",
        "df = pd.DataFrame(datos)"
      ],
      "metadata": {
        "id": "pdLnyFzH9A3l"
      },
      "execution_count": null,
      "outputs": []
    },
    {
      "cell_type": "code",
      "source": [
        "# Mostrar el DataFrame\n",
        "print(df)"
      ],
      "metadata": {
        "colab": {
          "base_uri": "https://localhost:8080/"
        },
        "id": "poRC-DTv9IOR",
        "outputId": "c1edbe7f-3f24-48d0-a1c3-66cd6878f4d2"
      },
      "execution_count": null,
      "outputs": [
        {
          "output_type": "stream",
          "name": "stdout",
          "text": [
            "  Nombre  Edad  Nota\n",
            "0    Ana    20   4.5\n",
            "1  Bruno    22   3.8\n",
            "2  Carla    21   4.2\n",
            "3  Diego    23   4.9\n",
            "4  Elena    20   3.6\n"
          ]
        }
      ]
    },
    {
      "cell_type": "markdown",
      "source": [
        "5. Utiliza el DataFrame anterior para calcular la media, mínima, máxima y\n",
        "desviación estándar de las notas."
      ],
      "metadata": {
        "id": "UHZB9qtC9M_V"
      }
    },
    {
      "cell_type": "code",
      "source": [
        "# Calcular estadísticas de la columna 'Nota'\n",
        "media = df['Nota'].mean()\n",
        "minima = df['Nota'].min()\n",
        "maxima = df['Nota'].max()\n",
        "desviacion = df['Nota'].std()"
      ],
      "metadata": {
        "id": "NCGlXfcb9fmP"
      },
      "execution_count": null,
      "outputs": []
    },
    {
      "cell_type": "code",
      "source": [
        "print(\"Media de las notas:\", media)\n",
        "print(\"Nota mínima:\", minima)\n",
        "print(\"Nota máxima:\", maxima)\n",
        "print(\"Desviación estándar:\", desviacion)"
      ],
      "metadata": {
        "colab": {
          "base_uri": "https://localhost:8080/"
        },
        "id": "SoEwU-Bo9ihu",
        "outputId": "4201ded4-2e52-447d-85f0-6c4f61566b90"
      },
      "execution_count": null,
      "outputs": [
        {
          "output_type": "stream",
          "name": "stdout",
          "text": [
            "Media de las notas: 4.2\n",
            "Nota mínima: 3.6\n",
            "Nota máxima: 4.9\n",
            "Desviación estándar: 0.5244044240850759\n"
          ]
        }
      ]
    },
    {
      "cell_type": "markdown",
      "source": [
        "6. Filtra los estudiantes del DataFrame que tienen nota mayor o igual a 4.0."
      ],
      "metadata": {
        "id": "pGq97eVq91pG"
      }
    },
    {
      "cell_type": "code",
      "source": [
        "# Filtrar estudiantes con nota >= 4.0\n",
        "filtro = df[df['Nota'] >= 4.0]"
      ],
      "metadata": {
        "id": "U1HJfTRY9_zo"
      },
      "execution_count": null,
      "outputs": []
    },
    {
      "cell_type": "code",
      "source": [
        "print(filtro)"
      ],
      "metadata": {
        "colab": {
          "base_uri": "https://localhost:8080/"
        },
        "id": "OVRtTreI-DK6",
        "outputId": "798091ac-d316-4b91-f05c-5a5873189940"
      },
      "execution_count": null,
      "outputs": [
        {
          "output_type": "stream",
          "name": "stdout",
          "text": [
            "  Nombre  Edad  Nota\n",
            "0    Ana    20   4.5\n",
            "2  Carla    21   4.2\n",
            "3  Diego    23   4.9\n"
          ]
        }
      ]
    },
    {
      "cell_type": "markdown",
      "source": [
        "7. Grafica las notas de los estudiantes utilizando un gráfico de barras con\n",
        "Matplotlib."
      ],
      "metadata": {
        "id": "CecFmzKy-RGY"
      }
    },
    {
      "cell_type": "code",
      "source": [
        "# Crear el gráfico de barras\n",
        "plt.bar(df['Nombre'], df['Nota'])\n",
        "\n",
        "# Títulos y etiquetas\n",
        "plt.title('Notas de los Estudiantes')\n",
        "plt.xlabel('Nombre')\n",
        "plt.ylabel('Nota')\n",
        "\n",
        "# Mostrar el gráfico\n",
        "plt.show()"
      ],
      "metadata": {
        "colab": {
          "base_uri": "https://localhost:8080/",
          "height": 472
        },
        "collapsed": true,
        "id": "zN8Z7bmY-nw0",
        "outputId": "0953364b-2e9c-4e42-9c2d-6afebfae501b"
      },
      "execution_count": null,
      "outputs": [
        {
          "output_type": "display_data",
          "data": {
            "text/plain": [
              "<Figure size 640x480 with 1 Axes>"
            ],
            "image/png": "[encoded data removed]"
          },
          "metadata": {}
        }
      ]
    },
    {
      "cell_type": "markdown",
      "source": [
        "8. Crea un gráfico de dispersión (scatter plot) entre las columnas Edad y\n",
        "Nota."
      ],
      "metadata": {
        "id": "YfuLrXPW_lX3"
      }
    },
    {
      "cell_type": "code",
      "source": [
        "# Crear el gráfico de dispersión\n",
        "plt.scatter(df['Edad'], df['Nota'], color='blue', marker='o')\n",
        "\n",
        "# Títulos y etiquetas\n",
        "plt.title('Relación entre Edad y Nota')\n",
        "plt.xlabel('Edad')\n",
        "plt.ylabel('Nota')\n",
        "\n",
        "# Mostrar el gráfico\n",
        "plt.show()"
      ],
      "metadata": {
        "colab": {
          "base_uri": "https://localhost:8080/",
          "height": 472
        },
        "collapsed": true,
        "id": "44oaNcskALMH",
        "outputId": "cfccdcd7-83ca-4fd0-da14-014a50718dab"
      },
      "execution_count": null,
      "outputs": [
        {
          "output_type": "display_data",
          "data": {
            "text/plain": [
              "<Figure size 640x480 with 1 Axes>"
            ],
            "image/png": "[encoded data removed]"
          },
          "metadata": {}
        }
      ]
    },
    {
      "cell_type": "markdown",
      "source": [
        "9. Agrega una columna llamada Género al DataFrame y calcula el promedio\n",
        "de notas por género."
      ],
      "metadata": {
        "id": "mvuk2FjdAxc3"
      }
    },
    {
      "cell_type": "code",
      "source": [
        "# Agregar la columna 'Género'\n",
        "df['Género'] = ['F', 'M', 'F', 'M', 'F']"
      ],
      "metadata": {
        "id": "V7ryXVjvBCAY"
      },
      "execution_count": null,
      "outputs": []
    },
    {
      "cell_type": "code",
      "source": [
        "# Calcular el promedio de notas por género\n",
        "promedio_por_genero = df.groupby('Género')['Nota'].mean()"
      ],
      "metadata": {
        "id": "1qvQmNe3AR5p"
      },
      "execution_count": null,
      "outputs": []
    },
    {
      "cell_type": "code",
      "source": [
        "print(\"DataFrame actualizado:\")\n",
        "print(df)\n",
        "print(\"\\nPromedio de notas por género:\")\n",
        "print(promedio_por_genero)"
      ],
      "metadata": {
        "colab": {
          "base_uri": "https://localhost:8080/"
        },
        "id": "r-RERNzbBKs6",
        "outputId": "1b20cdd9-648e-4db0-a5ab-ad2a909ad733"
      },
      "execution_count": null,
      "outputs": [
        {
          "output_type": "stream",
          "name": "stdout",
          "text": [
            "DataFrame actualizado:\n",
            "  Nombre  Edad  Nota Género\n",
            "0    Ana    20   4.5      F\n",
            "1  Bruno    22   3.8      M\n",
            "2  Carla    21   4.2      F\n",
            "3  Diego    23   4.9      M\n",
            "4  Elena    20   3.6      F\n",
            "\n",
            "Promedio de notas por género:\n",
            "Género\n",
            "F    4.10\n",
            "M    4.35\n",
            "Name: Nota, dtype: float64\n"
          ]
        }
      ]
    },
    {
      "cell_type": "markdown",
      "source": [
        "10. Calcula el rango, varianza y desviación estándar de las notas, y representa su\n",
        "distribución en un histograma."
      ],
      "metadata": {
        "id": "f1AtXF7ABVjf"
      }
    },
    {
      "cell_type": "code",
      "source": [
        "# Calcular medidas estadísticas\n",
        "rango = df['Nota'].max() - df['Nota'].min()\n",
        "varianza = np.var(df['Nota'], ddof=0)  # varianza poblacional\n",
        "desviacion = np.std(df['Nota'], ddof=0)  # desviación estándar poblacional"
      ],
      "metadata": {
        "id": "LyCd9tzNBZWj"
      },
      "execution_count": null,
      "outputs": []
    },
    {
      "cell_type": "code",
      "source": [
        "# Mostrar resultados\n",
        "print(f\"Rango: {rango:.2f}\")\n",
        "print(f\"Varianza: {varianza:.4f}\")\n",
        "print(f\"Desviación estándar: {desviacion:.4f}\")"
      ],
      "metadata": {
        "colab": {
          "base_uri": "https://localhost:8080/"
        },
        "id": "SQ8sqYAbBkbW",
        "outputId": "35cbd666-214e-4e0b-918d-601ebb735df6"
      },
      "execution_count": null,
      "outputs": [
        {
          "output_type": "stream",
          "name": "stdout",
          "text": [
            "Rango: 1.30\n",
            "Varianza: 0.2200\n",
            "Desviación estándar: 0.4690\n"
          ]
        }
      ]
    },
    {
      "cell_type": "code",
      "source": [
        "# Crear el histograma\n",
        "plt.hist(df['Nota'], bins=5, color='skyblue', edgecolor='black')\n",
        "plt.title('Distribución de las Notas')\n",
        "plt.xlabel('Nota')\n",
        "plt.ylabel('Frecuencia')\n",
        "\n",
        "# Mostrar el gráfico\n",
        "plt.show()"
      ],
      "metadata": {
        "colab": {
          "base_uri": "https://localhost:8080/",
          "height": 472
        },
        "id": "EIHlUaY_Bnha",
        "outputId": "7cb9ea64-09dd-4076-f5a6-c0a343cc0f3f"
      },
      "execution_count": null,
      "outputs": [
        {
          "output_type": "display_data",
          "data": {
            "text/plain": [
              "<Figure size 640x480 with 1 Axes>"
            ],
            "image/png": "[encoded data removed]"
          },
          "metadata": {}
        }
      ]
    }
  ]
}